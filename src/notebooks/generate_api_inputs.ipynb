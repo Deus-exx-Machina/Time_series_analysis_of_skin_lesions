{
 "cells": [
  {
   "cell_type": "code",
   "execution_count": 1,
   "metadata": {},
   "outputs": [],
   "source": [
    "import os\n",
    "import json\n",
    "import sys\n",
    "\n",
    "import pandas as pd\n",
    "\n",
    "sys.path.append(os.path.abspath('..'))\n",
    "\n",
    "from prompt_generation import generate_prompts_dataset\n",
    "\n",
    "pd.set_option('display.max_columns', None)"
   ]
  },
  {
   "cell_type": "code",
   "execution_count": 2,
   "metadata": {},
   "outputs": [],
   "source": [
    "# Dataset paths\n",
    "dataset = \"derm12345\"\n",
    "dataset_path = f\"../../datasets/{dataset}\"\n",
    "metadata_path = f\"../../datasets/{dataset}/metadata.csv\"\n",
    "\n",
    "# Prompts samples path\n",
    "prompt_samples_path = \"../prompt_samples.json\"\n",
    "\n",
    "# Output path,\n",
    "output_file = f\"../api_requests/api_requests_{dataset}.json\"\n",
    "\n",
    "metadata = pd.read_csv(metadata_path)\n",
    "\n",
    "# Contains question types and variations\n",
    "with open(prompt_samples_path, \"r\") as file:\n",
    "    prompt_samples = json.load(file)"
   ]
  },
  {
   "cell_type": "code",
   "execution_count": 3,
   "metadata": {},
   "outputs": [],
   "source": [
    "#metadata.columns"
   ]
  },
  {
   "cell_type": "code",
   "execution_count": 4,
   "metadata": {},
   "outputs": [],
   "source": [
    "#metadata.head()"
   ]
  },
  {
   "cell_type": "code",
   "execution_count": 5,
   "metadata": {},
   "outputs": [],
   "source": [
    "api_requests = generate_prompts_dataset(\n",
    "    metadata=metadata, \n",
    "    prompt_samples=prompt_samples, \n",
    "    dataset=dataset,\n",
    "    dataset_path=dataset_path\n",
    ")"
   ]
  },
  {
   "cell_type": "code",
   "execution_count": 6,
   "metadata": {},
   "outputs": [
    {
     "name": "stdout",
     "output_type": "stream",
     "text": [
      "API-ready prompts saved to ../api_requests/api_requests_derm12345.json\n"
     ]
    }
   ],
   "source": [
    "# Make sure the parent folder exists\n",
    "os.makedirs(os.path.dirname(output_file), exist_ok=True)\n",
    "\n",
    "with open(output_file, \"w\") as file:\n",
    "    json.dump(api_requests, file, indent=4)\n",
    "\n",
    "print(f\"API-ready prompts saved to {output_file}\")"
   ]
  }
 ],
 "metadata": {
  "kernelspec": {
   "display_name": "base",
   "language": "python",
   "name": "python3"
  },
  "language_info": {
   "codemirror_mode": {
    "name": "ipython",
    "version": 3
   },
   "file_extension": ".py",
   "mimetype": "text/x-python",
   "name": "python",
   "nbconvert_exporter": "python",
   "pygments_lexer": "ipython3",
   "version": "3.11.5"
  }
 },
 "nbformat": 4,
 "nbformat_minor": 2
}
