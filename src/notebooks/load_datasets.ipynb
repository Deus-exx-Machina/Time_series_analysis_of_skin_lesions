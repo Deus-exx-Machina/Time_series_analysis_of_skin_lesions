{
 "cells": [
  {
   "cell_type": "code",
   "execution_count": null,
   "metadata": {},
   "outputs": [],
   "source": [
    "from datasets import load_dataset\n",
    "\n",
    "# Login using e.g. `huggingface-cli login` to access this dataset\n",
    "ds = load_dataset(\"abdurrahimyilmaz/derm12345_synthetic_data\", split=\"train\")"
   ]
  },
  {
   "cell_type": "code",
   "execution_count": null,
   "metadata": {},
   "outputs": [],
   "source": [
    "import os\n",
    "import csv\n",
    "\n",
    "# Create output folder\n",
    "dataset = \"derm12345\"\n",
    "output_folder = f\"../../datasets/{dataset}\"\n",
    "os.makedirs(output_folder, exist_ok=True)\n",
    "\n",
    "# Prepare CSV metadata file\n",
    "metadata_path = os.path.join(output_folder, \"metadata.csv\")\n",
    "with open(metadata_path, mode='w', newline='') as csv_file:\n",
    "    writer = csv.writer(csv_file)\n",
    "    writer.writerow([\"image_id\"])  # CSV header\n",
    "\n",
    "    for sample in ds:\n",
    "        image = sample['image']\n",
    "        image_id = sample['image_id']\n",
    "\n",
    "        # Save image as JPG\n",
    "        image_path = os.path.join(output_folder, image_id)\n",
    "        image.convert(\"RGB\").save(image_path, format=\"JPEG\")\n",
    "\n",
    "        # Write image_id to CSV\n",
    "        writer.writerow([image_id])"
   ]
  }
 ],
 "metadata": {
  "kernelspec": {
   "display_name": "base",
   "language": "python",
   "name": "python3"
  },
  "language_info": {
   "codemirror_mode": {
    "name": "ipython",
    "version": 3
   },
   "file_extension": ".py",
   "mimetype": "text/x-python",
   "name": "python",
   "nbconvert_exporter": "python",
   "pygments_lexer": "ipython3",
   "version": "3.11.5"
  }
 },
 "nbformat": 4,
 "nbformat_minor": 2
}
